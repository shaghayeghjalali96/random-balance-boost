{
 "cells": [
  {
   "cell_type": "markdown",
   "metadata": {},
   "source": [
    "<h1 style=\"color:#3295ec;\"><center>بسم الله الرحمن الرحيم</center></h1>\n",
    "\n",
    "<h3 style=\"color:#3295ec;\"><center>تمرین دوم شناسایی الگو</center></h3>\n",
    "<p style=\"text-align: right;\"> نام و نام خانوادگی :شقایق جلالی</p>\n",
    "<p style=\"text-align: right;\">97722068:شماره دانشجویی</p>\n",
    "\n"
   ]
  },
  {
   "cell_type": "markdown",
   "metadata": {},
   "source": [
    "<p style=\"text-align: right;\">مرحله ی اول : کتابخانه های لازم را وارد کرده </p>\n"
   ]
  },
  {
   "cell_type": "code",
   "execution_count": 32,
   "metadata": {},
   "outputs": [],
   "source": [
    "from sklearn.ensemble import AdaBoostClassifier, BaggingClassifier\n",
    "from sklearn.linear_model import Perceptron, LogisticRegression\n",
    "from sklearn.tree import DecisionTreeClassifier\n",
    "from sklearn.metrics import accuracy_score\n",
    "from sklearn.metrics import roc_auc_score\n",
    "from sklearn.ensemble import AdaBoostClassifier\n",
    "from sklearn.ensemble import RandomForestClassifier\n",
    "from sklearn.neighbors import NearestNeighbors\n",
    "from sklearn.metrics import f1_score\n",
    "from sklearn import tree\n",
    "from sklearn import svm\n",
    "import matplotlib.pyplot as plt\n",
    "import pandas as pd\n",
    "import numpy as np\n",
    "import random\n",
    "import glob\n",
    "import math\n",
    "import smotee\n"
   ]
  },
  {
   "cell_type": "code",
   "execution_count": 33,
   "metadata": {},
   "outputs": [],
   "source": [
    "import warnings\n",
    "warnings.filterwarnings(\"ignore\")"
   ]
  },
  {
   "cell_type": "markdown",
   "metadata": {},
   "source": [
    "<p style=\"text-align: right;\"> مرحله ی دوم: مسیر داده ها را وارد میکنیم   </p>"
   ]
  },
  {
   "cell_type": "code",
   "execution_count": 3,
   "metadata": {},
   "outputs": [],
   "source": [
    "data_path = ['/home/shaghayegh/Documents/pattern/project2/data/1/*.txt', '/home/shaghayegh/Documents/pattern/project2/data/2/*.txt', '/home/shaghayegh/Documents/pattern/project2/data/3/*.txt',\n",
    "             '/home/shaghayegh/Documents/pattern/project2/data/4/*.txt', '/home/shaghayegh/Documents/pattern/project2/data/5/*.txt']"
   ]
  },
  {
   "cell_type": "markdown",
   "metadata": {},
   "source": [
    "<p style=\"text-align: right;\">مرحله ی سوم: داده ها را لیبل شان را بررسی میکنیم و ترین ست و تست ست را میسازیم   </p>"
   ]
  },
  {
   "cell_type": "code",
   "execution_count": 4,
   "metadata": {},
   "outputs": [],
   "source": [
    "def pretrain(path):\n",
    "    training_set = []\n",
    "    test_set = []\n",
    "    training_labels = []\n",
    "    test_labels = []\n",
    "    minority_class = []\n",
    "    majority_class = []\n",
    "    files = glob.glob(path)\n",
    "    for file in files:\n",
    "        with open(file) as dataa:\n",
    "            if \"tra\" in file:\n",
    "                lines = dataa.readlines()\n",
    "                for line in lines:\n",
    "                    bag = line.split(\",\")\n",
    "                    label = bag[-1]\n",
    "                    del bag[-1]\n",
    "                    bag = [float(i) for i in bag]\n",
    "\n",
    "                    if label == ' positive\\n':\n",
    "                        training_labels.append(1)\n",
    "                        minority_class.append(bag)\n",
    "                        \n",
    "                    else:\n",
    "                        training_labels.append(-1)\n",
    "                        majority_class.append(bag)\n",
    "\n",
    "                    training_set.append(bag)\n",
    "            elif \"tst\" in file:\n",
    "                lines = dataa.readlines()\n",
    "                for line in lines:\n",
    "                    bag = line.split(\",\")\n",
    "                    label = bag[-1]\n",
    "                    del bag[-1]\n",
    "                    bag = [float(i) for i in bag]\n",
    "\n",
    "                    if label == ' positive\\n':\n",
    "                        test_labels.append(1)\n",
    "                    else:\n",
    "                        test_labels.append(-1)\n",
    "\n",
    "                    test_set.append(bag)\n",
    "\n",
    "\n",
    "    return training_set ,test_set,training_labels,test_labels ,minority_class, majority_class\n"
   ]
  },
  {
   "cell_type": "code",
   "execution_count": 5,
   "metadata": {},
   "outputs": [],
   "source": [
    "def smote(num, min_class):\n",
    "    kn=5\n",
    "    \"\"\" smote method main function\n",
    "     num:Number of minority class samples\n",
    "     kn: Number of nearest neighbors\n",
    "     min_class : minority sample\n",
    "    \"\"\"\n",
    "\n",
    "    new = 0\n",
    "    synthetic = []\n",
    "    for s in range (0,num):\n",
    "        #line 1 paper\n",
    "        index = random.randint(1, len(min_class)) - 1\n",
    "        knn(index, min_class[i],kn, synthetic, new, min_class)\n",
    "\n",
    "    return synthetic\n"
   ]
  },
  {
   "cell_type": "code",
   "execution_count": 6,
   "metadata": {},
   "outputs": [],
   "source": [
    "def knn(index, min_test,kn, synthetic, new, min_class):\n",
    "\n",
    "    # make list for distances \n",
    "    distances = []\n",
    "    temp = []\n",
    "    for i in range(len(minority_class)):\n",
    "        if minority_class[i][:] != min_test:\n",
    "            # compute distance\n",
    "            # line 13 paper\n",
    "            distance = np.sqrt(np.sum(np.square(np.array(min_test) - np.array(minority_class[i][:]))))\n",
    "            distances.append([distance, i])\n",
    "\n",
    "    distances = sorted(distances)\n",
    "    nn = random.randint(1, kn) - 1\n",
    "    for feature_position in range(0, 6):\n",
    "        dif = min_class[nn][feature_position] - min_class[index][feature_position]\n",
    "        gap = random.random()\n",
    "        #line 23 paper\n",
    "        temp.insert(feature_position, min_class[index][feature_position] + gap * dif)\n",
    "\n",
    "    synthetic.insert(new, temp)\n",
    "\n",
    "    return \n"
   ]
  },
  {
   "cell_type": "code",
   "execution_count": 7,
   "metadata": {},
   "outputs": [],
   "source": [
    "def random_balance():\n",
    "    new_training_set = []\n",
    "    new_training_labels = []\n",
    "    #line one paper\n",
    "    total_size = len(training_set)\n",
    "    #line 4 paper\n",
    "    minority_size = len(minority_class)\n",
    "    #line 5 paper\n",
    "    majority_size = len(majority_class)\n",
    "    #line 6 paper\n",
    "    new_majority_size = random.randint(2, total_size - 2)\n",
    "    #line 7 paper\n",
    "    new_minority_size = total_size - new_majority_size\n",
    "    #line 8 paper\n",
    "    if new_majority_size < majority_size:\n",
    "        #line 9 paper\n",
    "        new_training_set.extend(minority_class)\n",
    "        listOfStrings1 = [int(1) for i in range(minority_size)]\n",
    "        new_training_labels.extend(listOfStrings1)\n",
    "        #print(type(new_training_labels[1]))\n",
    "        #line 10 paper\n",
    "        new_training_set.extend(random.sample(majority_class, new_majority_size))\n",
    "        listOfStrings2 = [int(-1) for i in range(new_majority_size)]\n",
    "        new_training_labels.extend(listOfStrings2)\n",
    "        #line 11 paper\n",
    "        # Create newMinoritySize- minoritySize artificial examples  using SMOTE\n",
    "        new_training_set.extend(smote(new_minority_size - minority_size, minority_class))\n",
    "        listOfStrings3 = [int(1) for i in range(new_minority_size - minority_size)]\n",
    "        new_training_labels.extend(listOfStrings3)\n",
    "    #line 12 paper\n",
    "    else:\n",
    "        #line 13 paper\n",
    "        new_training_set.extend(majority_class)\n",
    "        listOfStrings4 = [int(-1) for i in range(majority_size)]\n",
    "        new_training_labels.extend(listOfStrings4)\n",
    "        #line 14 paper\n",
    "        new_training_set.extend(random.sample(minority_class, new_minority_size))\n",
    "        listOfStrings5 = [int(1) for i in range(new_minority_size)]\n",
    "        new_training_labels.extend(listOfStrings5)\n",
    "        #line 15 paper\n",
    "        #Create newMajoritySize- majoritySize artificial examples using SMOTE\n",
    "        new_training_set.extend(smote(new_majority_size - majority_size, majority_class))\n",
    "        listOfStrings6 = [int(-1) for i in range(new_majority_size - majority_size)]\n",
    "        new_training_labels.extend(listOfStrings6)\n",
    "        #line 17 paper\n",
    "\n",
    "    return new_training_set, new_training_labels\n"
   ]
  },
  {
   "cell_type": "code",
   "execution_count": 8,
   "metadata": {},
   "outputs": [],
   "source": [
    "def rb_boost(training_set, T,s):\n",
    "    classifier_list = []\n",
    "    betas = []\n",
    "    distribution=[]\n",
    "    distributioni=[]\n",
    "    #line 1 paper\n",
    "    listOfStrings1 = [1 / len(training_set) for i in range( len(training_set))]\n",
    "    distribution.extend(listOfStrings1)\n",
    "    #line 2 paper\n",
    "    for tt in range (0,T):\n",
    "        listOfStrings2 = [int(0) for i in range( len(training_set))]\n",
    "        distributioni.extend(listOfStrings2)\n",
    "        #line 3 paper\n",
    "        new_training_set, new_training_labels = random_balance()\n",
    "        #line 4 paper\n",
    "        for index in range(0, len(training_set)):\n",
    "            if new_training_set[index] in training_set:  \n",
    "                # If the example is from the sample it maintains its weight\n",
    "                distributioni[index] = distribution[index]\n",
    "            else:  \n",
    "                # if the example is artificial it has the initial weight\n",
    "                distributioni[index] = 1 / len(training_set)\n",
    "            \n",
    "\n",
    "\n",
    "        if int(s)==1:\n",
    "            classifier = DecisionTreeClassifier(max_depth=1)\n",
    "        elif int(s)==2:\n",
    "            classifier = svm.SVC(kernel = 'linear', probability = True)\n",
    "        elif int(s)==3:\n",
    "            classifier = svm.SVC(kernel = 'poly', probability = True)\n",
    "        elif int(s)==4:\n",
    "            classifier = svm.SVC(kernel = 'rbf', probability = True)\n",
    "        elif int (s) == 5:\n",
    "            classifier = svm.SVC(kernel = 'sigmoid', probability = True)\n",
    "\n",
    "        else:\n",
    "            classifier = tree.DecisionTreeClassifier()\n",
    "\n",
    "        \n",
    "        classifier.fit(new_training_set, new_training_labels)\n",
    "\n",
    "\n",
    "        classifier_list.append(classifier)\n",
    "\n",
    "        predict = classifier.predict(new_training_set)\n",
    "        proba = classifier.predict_proba(new_training_set)\n",
    "        \n",
    "        #line 6 paper\n",
    "\n",
    "            \n",
    "        et= 0\n",
    "     \n",
    "        for i in range(0, len(proba)):\n",
    "            if new_training_labels[i]==1:\n",
    "                lt=1\n",
    "            elif new_training_labels[i]==-1:\n",
    "                lt=0\n",
    "            if predict[i]==1:\n",
    "                lp=1\n",
    "            elif predict[i]==-1:\n",
    "                lp=0\n",
    "            temp=(1 + proba[i][lp] - proba[i][lt])\n",
    "            if predict[i] != new_training_labels[i]:\n",
    "                et = et + (distributioni[i] * (1 - proba[i][lp] +\n",
    "                   proba[i][lt]))\n",
    "\n",
    "\n",
    "        #line 7 paper\n",
    "        beta = et / (1 - et)\n",
    "        #print (beta)\n",
    "        if math.isnan(beta) or beta == 0:\n",
    "            beta = 0.001\n",
    "        #line 8 paper\n",
    "        #distributioni=distributioni*(math.pow(float(beta), float(0.5*temp)))\n",
    "        distrib=(math.pow((beta), (0.5*temp)))\n",
    "        #line 9 paper\n",
    "        distributioni[index]=distributioni[index]*float(distrib)\n",
    "        \n",
    "        betas.append(beta)\n",
    "\n",
    "\n",
    "    return classifier_list, betas\n"
   ]
  },
  {
   "cell_type": "code",
   "execution_count": 9,
   "metadata": {},
   "outputs": [],
   "source": [
    "def rb_boost_test(classifier_list, beta_list, test_set):\n",
    "    classifier = classifier_list[0].classes_.tolist()\n",
    "    f_proba = np.zeros((len(test_set), 2))\n",
    "    for t in range(0, len(classifier_list)):\n",
    "        proba = classifier_list[t].predict_proba(test_set)\n",
    "        for s in range(0, len(test_set)):\n",
    "            #line 11 paper\n",
    "            proba[s] = [math.log(1 / beta_list[t]) * float(i) for i in proba[s]]\n",
    "\n",
    "        f_proba = f_proba + np.array(proba)\n",
    "\n",
    "    predict_label = []\n",
    "    for ss in f_proba:\n",
    "        if ss[0]>ss[1]:\n",
    "            predict_label.append(-1)\n",
    "        else:\n",
    "            predict_label.append(1)\n",
    "   \n",
    "    return predict_label\n"
   ]
  },
  {
   "cell_type": "code",
   "execution_count": 10,
   "metadata": {},
   "outputs": [],
   "source": [
    "T_f_score_tree = {'RbBoost_tree': [], 'Random Forest':[] ,'Adaboost-DecisionTree4.5': [] }\n",
    "T_f_score_adaboost = {'Adaboost-DecisionTree4.5': [], 'Adaboost-DecisionStump': [], 'Adaboost-MLP': []}\n",
    "T_f_score_forest = { 'Random Forest':[], 'Random Forest_stump':[],'bagging-log':[]}\n",
    "decision_stump = {'Adaboost-DecisionStump': [],'Random Forest_stump':[] , 'rbboost_stump':[]}\n",
    "T_f_score_RB = {'RbBoost_tree': [],'rbboost_stump':[],'rbboost_svm':[]}\n"
   ]
  },
  {
   "cell_type": "markdown",
   "metadata": {},
   "source": [
    "پنجره پایین در هر مرحله حق انتخاب داریم از چه کلاسیفایری استفاده کنیم"
   ]
  },
  {
   "cell_type": "markdown",
   "metadata": {},
   "source": [
    "# Rb boost classifier \n",
    "for size in [5,10, 50, 100]:\n",
    "    f_score = 0\n",
    "    s = input(\" enter number 1 for decision tree\\n enter number 2 for svm with kernel linear\\n enter number 3 for svm with kernel poly\\n enter number 4 for svm with kernel rbf\\n enter number 5 for svm with kernel sigmoid\\n\")\n",
    "    for i in range(0, 5):\n",
    "        classifiers, betas = rb_boost(training_set, size ,s)\n",
    "        given_labels = rb_boost_test(classifiers, betas, test_set)\n",
    "        f_score += f1_score(test_labels, given_labels,  pos_label=1, average='weighted')\n",
    "\n",
    "    T_f_score_RB['Rb Boost'].append((f_score / 5)*100)\n",
    "    print('Rb Boost:', size)\n",
    "    print((f_score / 5)*100)"
   ]
  },
  {
   "cell_type": "code",
   "execution_count": 15,
   "metadata": {},
   "outputs": [
    {
     "name": "stdout",
     "output_type": "stream",
     "text": [
      " enter number 1 for decision stump\n",
      " enter number 2 for svm with kernel linear\n",
      " enter number 3 for svm with kernel poly\n",
      " enter number 4 for svm with kernel rbf\n",
      " enter number 5 for svm with kernel sigmoid\n",
      " enter 6 for decision tree c 4.5 \n",
      "6\n",
      "Rb Boost: 5\n",
      "96.36319817225451\n",
      "Rb Boost: 10\n",
      "95.23306391316808\n",
      "Rb Boost: 50\n",
      "95.84432295675009\n",
      "Rb Boost: 100\n",
      "95.91911042479599\n"
     ]
    }
   ],
   "source": [
    "# Rb boost classifier\n",
    "s = input(\" enter number 1 for decision stump\\n enter number 2 for svm with kernel linear\\n enter number 3 for svm with kernel poly\\n enter number 4 for svm with kernel rbf\\n enter number 5 for svm with kernel sigmoid\\n enter 6 for decision tree c 4.5 \\n\")\n",
    "for size in [5,10, 50, 100]:\n",
    "    f_score = 0\n",
    "    for i in range(0, 5):\n",
    "        training_set ,test_set,training_labels,test_labels ,minority_class, majority_class = pretrain(data_path[i])\n",
    "        classifiers, betas = rb_boost(training_set, size ,s)\n",
    "        given_labels = rb_boost_test(classifiers, betas, test_set)\n",
    "        f_score += f1_score(test_labels, given_labels,  pos_label=1, average='weighted')\n",
    "    if int(s)==1:   \n",
    "        decision_stump ['rbboost_stump'].append((f_score / 5)*100)\n",
    "        T_f_score_RB['rbboost_stump'].append((f_score / 5)*100)\n",
    "    elif int(s)==6:\n",
    "        T_f_score_RB['RbBoost_tree'].append((f_score / 5)*100)\n",
    "        T_f_score_tree['RbBoost_tree'].append((f_score / 5)*100)\n",
    "    else :\n",
    "        T_f_score_RB ['rbboost_svm'].append((f_score / 5)*100)\n",
    "                    \n",
    "    print('Rb Boost:', size)\n",
    "    print((f_score / 5)*100)"
   ]
  },
  {
   "cell_type": "code",
   "execution_count": 16,
   "metadata": {},
   "outputs": [
    {
     "data": {
      "text/plain": [
       "{'RbBoost_tree': [96.36319817225451,\n",
       "  95.23306391316808,\n",
       "  95.84432295675009,\n",
       "  95.91911042479599],\n",
       " 'rbboost_stump': [86.81321110898111,\n",
       "  90.92680091529401,\n",
       "  90.90803112655558,\n",
       "  90.28928334961253],\n",
       " 'rbboost_svm': [96.3036055479021,\n",
       "  96.6133835169093,\n",
       "  97.00929667144311,\n",
       "  96.22413793103448]}"
      ]
     },
     "execution_count": 16,
     "metadata": {},
     "output_type": "execute_result"
    }
   ],
   "source": [
    "T_f_score_RB"
   ]
  },
  {
   "cell_type": "code",
   "execution_count": 17,
   "metadata": {},
   "outputs": [
    {
     "name": "stdout",
     "output_type": "stream",
     "text": [
      "     RbBoost_tree  rbboost_stump  rbboost_svm\n",
      "5       96.363198      86.813211    96.303606\n",
      "10      95.233064      90.926801    96.613384\n",
      "50      95.844323      90.908031    97.009297\n",
      "100     95.919110      90.289283    96.224138\n"
     ]
    },
    {
     "data": {
      "text/plain": [
       "<matplotlib.figure.Figure at 0x7fd5e8878710>"
      ]
     },
     "metadata": {},
     "output_type": "display_data"
    },
    {
     "data": {
      "image/png": "[encoded data removed]",
      "text/plain": [
       "<matplotlib.figure.Figure at 0x7fd5e88e1358>"
      ]
     },
     "metadata": {
      "needs_background": "light"
     },
     "output_type": "display_data"
    }
   ],
   "source": [
    "daig = pd.DataFrame(data=T_f_score_RB,index= [5,10, 50, 100])\n",
    "print(daig)\n",
    "plt.figure()\n",
    "daig.plot()\n",
    "plt.show()"
   ]
  },
  {
   "cell_type": "code",
   "execution_count": 18,
   "metadata": {},
   "outputs": [
    {
     "name": "stdout",
     "output_type": "stream",
     "text": [
      "Adaboost-DecisionTree4.5: 5\n",
      "94.59151304017637\n",
      "Adaboost-DecisionTree4.5: 10\n",
      "95.232945681609\n",
      "Adaboost-DecisionTree4.5: 50\n",
      "95.71698144150682\n",
      "Adaboost-DecisionTree4.5: 100\n",
      "94.53200502083664\n"
     ]
    }
   ],
   "source": [
    "#adaboost decision tree classifier\n",
    "for size in [5, 10, 50, 100]:\n",
    "    adaboost_DecisionTree = AdaBoostClassifier(base_estimator=DecisionTreeClassifier(criterion='gini'), n_estimators = size)\n",
    "    f_score =0\n",
    "    for i in range(0, 5):\n",
    "        training_set ,test_set,training_labels,test_labels ,minority_class, majority_class = pretrain(data_path[i])\n",
    "        adaboost_DecisionTree.fit(training_set, training_labels)\n",
    "        given_labels = adaboost_DecisionTree.predict(test_set)\n",
    "        f_score += f1_score(test_labels, given_labels,  pos_label=1, average='weighted')\n",
    "\n",
    " \n",
    "    T_f_score_tree['Adaboost-DecisionTree4.5'].append((f_score / 5)*100)\n",
    "    T_f_score_adaboost['Adaboost-DecisionTree4.5'].append((f_score / 5)*100)\n",
    "    print('Adaboost-DecisionTree4.5:', size)\n",
    "    print((f_score / 5)*100)\n",
    "    \n",
    "    "
   ]
  },
  {
   "cell_type": "code",
   "execution_count": 19,
   "metadata": {},
   "outputs": [
    {
     "name": "stdout",
     "output_type": "stream",
     "text": [
      "Adaboost-DecisionStump: 5\n",
      "96.03810712799475\n",
      "Adaboost-DecisionStump: 10\n",
      "96.1411238825032\n",
      "Adaboost-DecisionStump: 50\n",
      "95.83409466536162\n",
      "Adaboost-DecisionStump: 100\n",
      "95.83409466536162\n"
     ]
    }
   ],
   "source": [
    "#adaboost ‫‪Decision Stump‬‬ Classifier\n",
    "for size in [5, 10, 50, 100]:\n",
    "    adaboost_DecisionStump = AdaBoostClassifier(base_estimator=DecisionTreeClassifier(max_depth=1), n_estimators = size)\n",
    "    f_score = 0\n",
    "    for i in range(0, 5):\n",
    "        training_set ,test_set,training_labels,test_labels ,minority_class, majority_class = pretrain(data_path[i])\n",
    "        adaboost_DecisionStump.fit(training_set, training_labels)\n",
    "        given_labels = adaboost_DecisionStump.predict(test_set)\n",
    "        f_score += f1_score(test_labels, given_labels,  pos_label=1, average='weighted')\n",
    "    decision_stump['Adaboost-DecisionStump'].append((f_score / 5)*100)\n",
    "    T_f_score_adaboost['Adaboost-DecisionStump'].append((f_score / 5)*100)\n",
    "    \n",
    "    print('Adaboost-DecisionStump:', size)\n",
    "    print((f_score / 5)*100)"
   ]
  },
  {
   "cell_type": "code",
   "execution_count": 20,
   "metadata": {},
   "outputs": [
    {
     "name": "stdout",
     "output_type": "stream",
     "text": [
      "smote_boost: 5\n",
      "93.4763426524136\n",
      "smote_boost: 10\n",
      "94.8426742701001\n",
      "smote_boost: 50\n",
      "94.95064769202702\n",
      "smote_boost: 100\n",
      "96.10235358511223\n"
     ]
    }
   ],
   "source": [
    "\n",
    "#smote_boost‬‬ Classifier\n",
    "for size in [5, 10, 50, 100]:\n",
    "    smote_boost = smotee.SMOTEBoost(n_estimators=size, base_estimator =DecisionTreeClassifier(max_depth=1))\n",
    "    f_score = 0\n",
    "    for i in range(0, 5):\n",
    "        training_set ,test_set,training_labels,test_labels ,minority_class, majority_class = pretrain(data_path[i])\n",
    "        smote_boost.fit(training_set, training_labels)\n",
    "        given_labels = smote_boost.predict(test_set)\n",
    "        f_score += f1_score(test_labels, given_labels,  pos_label=1, average='weighted')\n",
    "\n",
    "    \n",
    "    print('smote_boost:', size)\n",
    "    print((f_score / 5)*100)"
   ]
  },
  {
   "cell_type": "code",
   "execution_count": 21,
   "metadata": {},
   "outputs": [
    {
     "name": "stdout",
     "output_type": "stream",
     "text": [
      "bagging-log: 5\n",
      "94.64048531289912\n",
      "bagging-log: 10\n",
      "95.30268199233717\n",
      "bagging-log: 50\n",
      "94.51085568326948\n",
      "bagging-log: 100\n",
      "94.51085568326948\n"
     ]
    }
   ],
   "source": [
    "#bagging classifier =random forest with LogisticRegression\n",
    "for size in [5, 10, 50, 100]:\n",
    "    adaboost_ANN_clf = BaggingClassifier(base_estimator=LogisticRegression(), n_estimators = size)\n",
    "    f_score =0\n",
    "    for i in range(0, 5):\n",
    "        training_set ,test_set,training_labels,test_labels ,minority_class, majority_class = pretrain(data_path[i])\n",
    "        adaboost_ANN_clf.fit(training_set, training_labels)\n",
    "        given_labels = adaboost_ANN_clf.predict(test_set)\n",
    "        f_score += f1_score(test_labels, given_labels,  pos_label=1, average='weighted')\n",
    "\n",
    "    T_f_score_forest['bagging-log'].append((f_score / 5)*100)\n",
    "    print('bagging-log:', size)\n",
    "    print((f_score / 5)*100)\n",
    "    \n",
    "\n",
    "\n"
   ]
  },
  {
   "cell_type": "code",
   "execution_count": 22,
   "metadata": {},
   "outputs": [
    {
     "name": "stdout",
     "output_type": "stream",
     "text": [
      "Adaboost-MLP : 5\n",
      "94.63105641757326\n",
      "Adaboost-MLP : 10\n",
      "94.40652828819289\n",
      "Adaboost-MLP : 50\n",
      "95.232945681609\n",
      "Adaboost-MLP : 100\n",
      "93.80862805638856\n"
     ]
    }
   ],
   "source": [
    "#adaboost classifier with perceptron\n",
    "for size in [5, 10, 50, 100]:\n",
    "    adaboost_ANN_clf = AdaBoostClassifier(base_estimator=Perceptron(), n_estimators = size, algorithm='SAMME')\n",
    "    f_score = 0\n",
    "    for i in range(0, 5):\n",
    "        training_set ,test_set,training_labels,test_labels ,minority_class, majority_class = pretrain(data_path[i])\n",
    "        adaboost_ANN_clf.fit(training_set, training_labels)\n",
    "        given_labels = adaboost_ANN_clf.predict(test_set)\n",
    "        f_score += f1_score(test_labels, given_labels,  pos_label=1, average='weighted')\n",
    "\n",
    "    T_f_score_adaboost['Adaboost-MLP'].append((f_score / 5)*100)\n",
    "    print('Adaboost-MLP :', size)\n",
    "    print((f_score / 5)*100)"
   ]
  },
  {
   "cell_type": "code",
   "execution_count": 23,
   "metadata": {},
   "outputs": [
    {
     "name": "stdout",
     "output_type": "stream",
     "text": [
      "Random Forest_stump : 5\n",
      "91.73948713176851\n",
      "Random Forest_stump : 10\n",
      "94.08069782178234\n",
      "Random Forest_stump : 50\n",
      "92.92038996484526\n",
      "Random Forest_stump : 100\n",
      "93.5618226062779\n"
     ]
    }
   ],
   "source": [
    "#random forest classifier decision stump\n",
    "for size in [5, 10, 50, 100]:\n",
    "    random_forest_stump = RandomForestClassifier(max_depth=1, n_estimators=size)\n",
    "    f_score = 0\n",
    "    for i in range(0, 5):\n",
    "        training_set ,test_set,training_labels,test_labels ,minority_class, majority_class = pretrain(data_path[i])\n",
    "        random_forest_stump.fit(training_set, training_labels)\n",
    "        given_labels = random_forest_stump.predict(test_set)\n",
    "        f_score += f1_score(test_labels, given_labels,  pos_label=1, average='weighted')\n",
    "    T_f_score_forest['Random Forest_stump'].append((f_score / 5)*100)\n",
    "    decision_stump['Random Forest_stump'].append((f_score / 5)*100)\n",
    "    print('Random Forest_stump :', size)\n",
    "    print((f_score / 5)*100)"
   ]
  },
  {
   "cell_type": "code",
   "execution_count": 24,
   "metadata": {},
   "outputs": [
    {
     "name": "stdout",
     "output_type": "stream",
     "text": [
      "Random Forest : 5\n",
      "96.49042145593872\n",
      "Random Forest : 10\n",
      "96.42068514521054\n",
      "Random Forest : 50\n",
      "96.84482758620689\n",
      "Random Forest : 100\n",
      "96.84482758620689\n"
     ]
    }
   ],
   "source": [
    "#random forest classifier decision tree\n",
    "for size in [5, 10, 50, 100]:\n",
    "    random_forest = RandomForestClassifier(criterion='gini',n_estimators=size)\n",
    "    f_score = 0\n",
    "    for i in range(0, 5):\n",
    "        training_set ,test_set,training_labels,test_labels ,minority_class, majority_class = pretrain(data_path[i])\n",
    "        random_forest.fit(training_set, training_labels)\n",
    "        given_labels = random_forest.predict(test_set)\n",
    "        f_score += f1_score(test_labels, given_labels,  pos_label=1, average='weighted')\n",
    "\n",
    "    T_f_score_tree['Random Forest'].append((f_score / 5)*100)\n",
    "    T_f_score_forest['Random Forest'].append((f_score / 5)*100)\n",
    "    print('Random Forest :', size)\n",
    "    print((f_score / 5)*100)"
   ]
  },
  {
   "cell_type": "code",
   "execution_count": 25,
   "metadata": {},
   "outputs": [
    {
     "name": "stdout",
     "output_type": "stream",
     "text": [
      "     Adaboost-DecisionTree4.5  Adaboost-DecisionStump  Adaboost-MLP\n",
      "5                   94.591513               96.038107     94.631056\n",
      "10                  95.232946               96.141124     94.406528\n",
      "50                  95.716981               95.834095     95.232946\n",
      "100                 94.532005               95.834095     93.808628\n"
     ]
    },
    {
     "data": {
      "text/plain": [
       "<matplotlib.figure.Figure at 0x7fd5e65d32e8>"
      ]
     },
     "metadata": {},
     "output_type": "display_data"
    },
    {
     "data": {
      "image/png": "[encoded data removed]",
      "text/plain": [
       "<matplotlib.figure.Figure at 0x7fd5e65b3a90>"
      ]
     },
     "metadata": {
      "needs_background": "light"
     },
     "output_type": "display_data"
    }
   ],
   "source": [
    "daig = pd.DataFrame(data=T_f_score_adaboost,index= [5,10, 50, 100])\n",
    "print(daig)\n",
    "plt.figure()\n",
    "daig.plot()\n",
    "plt.show()"
   ]
  },
  {
   "cell_type": "code",
   "execution_count": 26,
   "metadata": {},
   "outputs": [
    {
     "data": {
      "text/plain": [
       "{'Random Forest': [96.49042145593872,\n",
       "  96.42068514521054,\n",
       "  96.84482758620689,\n",
       "  96.84482758620689],\n",
       " 'Random Forest_stump': [91.73948713176851,\n",
       "  94.08069782178234,\n",
       "  92.92038996484526,\n",
       "  93.5618226062779],\n",
       " 'bagging-log': [94.64048531289912,\n",
       "  95.30268199233717,\n",
       "  94.51085568326948,\n",
       "  94.51085568326948]}"
      ]
     },
     "execution_count": 26,
     "metadata": {},
     "output_type": "execute_result"
    }
   ],
   "source": [
    "T_f_score_forest"
   ]
  },
  {
   "cell_type": "code",
   "execution_count": 27,
   "metadata": {},
   "outputs": [
    {
     "name": "stdout",
     "output_type": "stream",
     "text": [
      "     Random Forest  Random Forest_stump  bagging-log\n",
      "5        96.490421            91.739487    94.640485\n",
      "10       96.420685            94.080698    95.302682\n",
      "50       96.844828            92.920390    94.510856\n",
      "100      96.844828            93.561823    94.510856\n"
     ]
    },
    {
     "data": {
      "text/plain": [
       "<matplotlib.figure.Figure at 0x7fd5e6600470>"
      ]
     },
     "metadata": {},
     "output_type": "display_data"
    },
    {
     "data": {
      "image/png": "[encoded data removed]",
      "text/plain": [
       "<matplotlib.figure.Figure at 0x7fd5e653ee80>"
      ]
     },
     "metadata": {
      "needs_background": "light"
     },
     "output_type": "display_data"
    }
   ],
   "source": [
    "daig = pd.DataFrame(data=T_f_score_forest,index= [5,10, 50, 100])\n",
    "print(daig)\n",
    "plt.figure()\n",
    "daig.plot(colormap='gist_rainbow')\n",
    "\n",
    "plt.show()"
   ]
  },
  {
   "cell_type": "code",
   "execution_count": 28,
   "metadata": {},
   "outputs": [
    {
     "data": {
      "text/plain": [
       "{'RbBoost_tree': [96.36319817225451,\n",
       "  95.23306391316808,\n",
       "  95.84432295675009,\n",
       "  95.91911042479599],\n",
       " 'Random Forest': [96.49042145593872,\n",
       "  96.42068514521054,\n",
       "  96.84482758620689,\n",
       "  96.84482758620689],\n",
       " 'Adaboost-DecisionTree4.5': [94.59151304017637,\n",
       "  95.232945681609,\n",
       "  95.71698144150682,\n",
       "  94.53200502083664]}"
      ]
     },
     "execution_count": 28,
     "metadata": {},
     "output_type": "execute_result"
    }
   ],
   "source": [
    "T_f_score_tree"
   ]
  },
  {
   "cell_type": "code",
   "execution_count": 29,
   "metadata": {},
   "outputs": [
    {
     "name": "stdout",
     "output_type": "stream",
     "text": [
      "     RbBoost_tree  Random Forest  Adaboost-DecisionTree4.5\n",
      "5       96.363198      96.490421                 94.591513\n",
      "10      95.233064      96.420685                 95.232946\n",
      "50      95.844323      96.844828                 95.716981\n",
      "100     95.919110      96.844828                 94.532005\n"
     ]
    },
    {
     "data": {
      "text/plain": [
       "<matplotlib.figure.Figure at 0x7fd5e64ec198>"
      ]
     },
     "metadata": {},
     "output_type": "display_data"
    },
    {
     "data": {
      "image/png": "[encoded data removed]",
      "text/plain": [
       "<matplotlib.figure.Figure at 0x7fd5e65d3b00>"
      ]
     },
     "metadata": {
      "needs_background": "light"
     },
     "output_type": "display_data"
    }
   ],
   "source": [
    "daig = pd.DataFrame(data=T_f_score_tree,index= [5,10, 50, 100])\n",
    "print(daig)\n",
    "plt.figure()\n",
    "daig.plot()\n",
    "plt.show()"
   ]
  },
  {
   "cell_type": "code",
   "execution_count": 30,
   "metadata": {},
   "outputs": [
    {
     "data": {
      "text/plain": [
       "{'Adaboost-DecisionStump': [96.03810712799475,\n",
       "  96.1411238825032,\n",
       "  95.83409466536162,\n",
       "  95.83409466536162],\n",
       " 'Random Forest_stump': [91.73948713176851,\n",
       "  94.08069782178234,\n",
       "  92.92038996484526,\n",
       "  93.5618226062779],\n",
       " 'rbboost_stump': [86.81321110898111,\n",
       "  90.92680091529401,\n",
       "  90.90803112655558,\n",
       "  90.28928334961253]}"
      ]
     },
     "execution_count": 30,
     "metadata": {},
     "output_type": "execute_result"
    }
   ],
   "source": [
    "decision_stump"
   ]
  },
  {
   "cell_type": "code",
   "execution_count": 31,
   "metadata": {},
   "outputs": [
    {
     "name": "stdout",
     "output_type": "stream",
     "text": [
      "     Adaboost-DecisionStump  Random Forest_stump  rbboost_stump\n",
      "5                 96.038107            91.739487      86.813211\n",
      "10                96.141124            94.080698      90.926801\n",
      "50                95.834095            92.920390      90.908031\n",
      "100               95.834095            93.561823      90.289283\n"
     ]
    },
    {
     "data": {
      "text/plain": [
       "<matplotlib.figure.Figure at 0x7fd5e6472128>"
      ]
     },
     "metadata": {},
     "output_type": "display_data"
    },
    {
     "data": {
      "image/png": "[encoded data removed]",
      "text/plain": [
       "<matplotlib.figure.Figure at 0x7fd5e6600748>"
      ]
     },
     "metadata": {
      "needs_background": "light"
     },
     "output_type": "display_data"
    }
   ],
   "source": [
    "daig = pd.DataFrame(data=decision_stump,index= [5,10, 50, 100])\n",
    "print(daig)\n",
    "plt.figure()\n",
    "daig.plot()\n",
    "plt.show()"
   ]
  },
  {
   "cell_type": "code",
   "execution_count": null,
   "metadata": {},
   "outputs": [],
   "source": []
  }
 ],
 "metadata": {
  "kernelspec": {
   "display_name": "Python 3",
   "language": "python",
   "name": "python3"
  },
  "language_info": {
   "codemirror_mode": {
    "name": "ipython",
    "version": 3
   },
   "file_extension": ".py",
   "mimetype": "text/x-python",
   "name": "python",
   "nbconvert_exporter": "python",
   "pygments_lexer": "ipython3",
   "version": "3.6.7"
  }
 },
 "nbformat": 4,
 "nbformat_minor": 2
}
